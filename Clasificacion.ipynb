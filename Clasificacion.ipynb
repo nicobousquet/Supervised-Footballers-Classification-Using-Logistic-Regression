{
  "nbformat": 4,
  "nbformat_minor": 0,
  "metadata": {
    "colab": {
      "provenance": []
    },
    "kernelspec": {
      "name": "python3",
      "display_name": "Python 3"
    },
    "language_info": {
      "name": "python"
    }
  },
  "cells": [
    {
      "cell_type": "markdown",
      "source": [
        "# Clasificación de futbolistas mediante regresión logística\n",
        "\n",
        "En la continuidad de mi trabajo sobre la caracterización de los jugadores de fútbol, esta vez he utilizado\n",
        "el algoritmo de clasificación supervisada de regresión logística. Para separar a mis jugadores en diferentes clases, he utilizado mi clasificazion hecha con el trabajo de clustering (1 cluster = 1 clase). Entonces, mis datos (ver archivo \"k_means_clusters.csv\") se componen de 52 features (goals, bigChancesCreated, asssists ...) y de 9 clases (cada una representando un tipo de jugador).\n",
        "\n"
      ],
      "metadata": {
        "id": "Ab6RnQZ6aAVw"
      }
    },
    {
      "cell_type": "code",
      "source": [
        "from itertools import cycle\n",
        "import pandas as pd\n",
        "from sklearn.model_selection import train_test_split, cross_val_score, KFold, LeaveOneOut\n",
        "from sklearn.linear_model import LogisticRegression\n",
        "import matplotlib.pyplot as plt\n",
        "from sklearn.metrics import confusion_matrix, roc_curve, auc\n",
        "from sklearn.metrics import classification_report\n",
        "from sklearn.multiclass import OneVsRestClassifier\n",
        "from sklearn.preprocessing import label_binarize\n",
        "import numpy as np\n",
        "\n",
        "df = pd.read_csv('k_means_clusters.csv', index_col='name')\n",
        "\n",
        "x = df.drop('cluster', axis=1)\n",
        "y = df.loc[:, 'cluster']\n",
        "\n",
        "# print some of the 52 features\n",
        "print('data:\\n')\n",
        "print(df[['goals', 'bigChancesCreated', 'bigChancesMissed', 'assists']])\n",
        "\n",
        "# print targets\n",
        "print('targets:\\n')\n",
        "print(y.head())"
      ],
      "metadata": {
        "colab": {
          "base_uri": "https://localhost:8080/"
        },
        "id": "EIsJf48CbFuj",
        "outputId": "10d46019-1279-4c99-cbe2-c6d8c08c5fe4"
      },
      "execution_count": null,
      "outputs": [
        {
          "output_type": "stream",
          "name": "stdout",
          "text": [
            "data:\n",
            "\n",
            "                      goals  bigChancesCreated  bigChancesMissed   assists\n",
            "name                                                                      \n",
            "Yaya Touré        -0.423817          -0.052154         -0.283263  1.055707\n",
            "Arturo Vidal       0.088257          -0.143615         -0.126104 -0.093351\n",
            "Axel Witsel       -0.129084          -1.015703         -0.343300 -0.439132\n",
            "Rafinha           -0.829356          -0.108621         -0.722721 -0.165008\n",
            "Philipp Lahm      -0.829356          -1.015703         -0.182957 -0.613521\n",
            "...                     ...                ...               ...       ...\n",
            "Ángel Di María     1.260835           2.708967          0.862789  1.480991\n",
            "Mesut Özil         1.134214          -0.238140          0.341180  0.650576\n",
            "Mario Götze        0.267215           0.721241         -0.722721  0.218008\n",
            "Dani Alves         0.012227           1.183829         -0.722721  0.989457\n",
            "Raphaël Guerreiro  1.718745           0.497848          0.197686 -0.310524\n",
            "\n",
            "[264 rows x 4 columns]\n",
            "targets:\n",
            "\n",
            "name\n",
            "Yaya Touré      0\n",
            "Arturo Vidal    0\n",
            "Axel Witsel     0\n",
            "Rafinha         0\n",
            "Philipp Lahm    0\n",
            "Name: cluster, dtype: int64\n"
          ]
        }
      ]
    },
    {
      "cell_type": "markdown",
      "source": [
        "Para evaluar la proporción correcta que debe darse a cada uno de los grupos de prueba y de entrenamiento, se puede trazar una curva\n",
        "de precisión en función del porcentaje dado al grupo de entrenamiento."
      ],
      "metadata": {
        "id": "9fi8f7c-cj7h"
      }
    },
    {
      "cell_type": "code",
      "source": [
        "y_test_tmp = []\n",
        "y_train_tmp = []\n",
        "for i in range(10, 90):\n",
        "    X_train, X_test, y_train, y_test = train_test_split(x, y, test_size=i / 100, random_state=30)\n",
        "    logreg = LogisticRegression(solver='liblinear')\n",
        "    logreg.fit(X_train, y_train)\n",
        "    y_train_tmp.append(logreg.score(X_train, y_train))\n",
        "    y_test_tmp.append(logreg.score(X_test, y_test))\n",
        "\n",
        "plt.plot(range(10, 90), y_train_tmp, label='Entrenamiento')\n",
        "plt.plot(range(10, 90), y_test_tmp, label='Prueba')\n",
        "plt.xlabel('Porcentaje grupo de prueba')\n",
        "plt.ylabel('Precision')\n",
        "plt.legend()\n",
        "plt.show()"
      ],
      "metadata": {
        "colab": {
          "base_uri": "https://localhost:8080/",
          "height": 279
        },
        "id": "NHjV4K1kcvyz",
        "outputId": "411e0f74-d68d-4426-bc67-58fcc0dd4981"
      },
      "execution_count": null,
      "outputs": [
        {
          "output_type": "display_data",
          "data": {
            "text/plain": [
              "<Figure size 432x288 with 1 Axes>"
            ],
            "image/png": "[encoded data removed]"
          },
          "metadata": {
            "needs_background": "light"
          }
        }
      ]
    },
    {
      "cell_type": "markdown",
      "source": [
        "En este caso, vemos que la precisión varía poco entre el 20% y el 60%. Me he inclinado por un número de muestras de 33% para el conjunto de prueba y 67% para el de entrenamiento. Se puede observar que la precisión es buena, incluso para el grupo de prueba (80%)."
      ],
      "metadata": {
        "id": "rbHPMs_se9Di"
      }
    },
    {
      "cell_type": "code",
      "source": [
        "X_train, X_test, y_train, y_test = train_test_split(x, y, test_size=0.33, random_state=0)\n",
        "logreg = LogisticRegression(solver='liblinear')\n",
        "logreg.fit(X_train, y_train)\n",
        "\n",
        "print(\"Precisión: %0.2f\" % logreg.score(x, y))\n",
        "print(\"- Entrenamiento: %0.2f\" % logreg.score(X_train, y_train))\n",
        "print(\"- Test: %0.2f\" % logreg.score(X_test, y_test))"
      ],
      "metadata": {
        "colab": {
          "base_uri": "https://localhost:8080/"
        },
        "id": "8AUwo8bAfIt1",
        "outputId": "0937400e-5419-419c-d4fe-d6b0c308e4bc"
      },
      "execution_count": null,
      "outputs": [
        {
          "output_type": "stream",
          "name": "stdout",
          "text": [
            "Precisión: 0.93\n",
            "- Entrenamiento: 1.00\n",
            "- Test: 0.80\n"
          ]
        }
      ]
    },
    {
      "cell_type": "markdown",
      "source": [
        "# Otros métodos de selección de datos de entrenamiento y prueba \n",
        "\n",
        "También podemos utilizar otros métodos de selección de datos de entrenamiento y prueba como la validación cruzada."
      ],
      "metadata": {
        "id": "SXWMT4Rcdu4Q"
      }
    },
    {
      "cell_type": "code",
      "source": [
        "scores = cross_val_score(logreg, x, y)\n",
        "print(\"- Entrenamiento + Test: \", scores)\n",
        "print(\" --> Precisión media: %0.2f\\n --> Desviación estándar: %0.2f\" % (scores.mean(), scores.std()))\n",
        "scores = cross_val_score(logreg, X_train, y_train)\n",
        "print(\"- Entrenamiento: \", scores)\n",
        "print(\" --> Precisión media: %0.2f\\n --> Desviación estándar: %0.2f\" % (scores.mean(), scores.std()))\n",
        "scores = cross_val_score(logreg, X_test, y_test)\n",
        "print(\"- Test: \", scores)\n",
        "print(\" --> Precisión media: %0.2f\\n --> Desviación estándar: %0.2f\" % (scores.mean(), scores.std()))"
      ],
      "metadata": {
        "colab": {
          "base_uri": "https://localhost:8080/"
        },
        "id": "qY06yVoMeHRy",
        "outputId": "cfc67b84-4a62-4ca7-cbec-e08a7a002a6b"
      },
      "execution_count": null,
      "outputs": [
        {
          "output_type": "stream",
          "name": "stdout",
          "text": [
            "- Entrenamiento + Test:  [0.9245283  0.83018868 0.9245283  0.8490566  0.86538462]\n",
            " --> Precisión media: 0.88\n",
            " --> Desviación estándar: 0.04\n",
            "- Entrenamiento:  [0.88888889 0.82857143 0.77142857 0.82857143 0.82857143]\n",
            " --> Precisión media: 0.83\n",
            " --> Desviación estándar: 0.04\n",
            "- Test:  [0.77777778 0.66666667 0.88888889 0.82352941 0.82352941]\n",
            " --> Precisión media: 0.80\n",
            " --> Desviación estándar: 0.07\n"
          ]
        },
        {
          "output_type": "stream",
          "name": "stderr",
          "text": [
            "/usr/local/lib/python3.7/dist-packages/sklearn/model_selection/_split.py:680: UserWarning: The least populated class in y has only 4 members, which is less than n_splits=5.\n",
            "  UserWarning,\n",
            "/usr/local/lib/python3.7/dist-packages/sklearn/model_selection/_split.py:680: UserWarning: The least populated class in y has only 3 members, which is less than n_splits=5.\n",
            "  UserWarning,\n",
            "/usr/local/lib/python3.7/dist-packages/sklearn/model_selection/_split.py:680: UserWarning: The least populated class in y has only 1 members, which is less than n_splits=5.\n",
            "  UserWarning,\n"
          ]
        }
      ]
    },
    {
      "cell_type": "markdown",
      "source": [
        "# K-Fold"
      ],
      "metadata": {
        "id": "wODS_r3VesV5"
      }
    },
    {
      "cell_type": "code",
      "source": [
        "cv = KFold(n_splits=10, random_state=1, shuffle=True)\n",
        "scores = cross_val_score(logreg, x, y, scoring='accuracy', cv=cv)\n",
        "print(\"- Entrenamiento + Test: \", scores)\n",
        "print(\" --> Precisión media: %0.2f\\n --> Desviación estándar: %0.2f\" % (scores.mean(), scores.std()))\n",
        "scores = cross_val_score(logreg, X_train, y_train, cv=cv)\n",
        "print(\"- Entrenamiento: \", scores)\n",
        "print(\" --> Precisión media: %0.2f\\n --> Desviación estándar: %0.2f\" % (scores.mean(), scores.std()))\n",
        "scores = cross_val_score(logreg, X_test, y_test, cv=cv)\n",
        "print(\"- Test: \", scores)\n",
        "print(\" --> Precisión media: %0.2f\\n --> Desviación estándar: %0.2f\" % (scores.mean(), scores.std()))"
      ],
      "metadata": {
        "colab": {
          "base_uri": "https://localhost:8080/"
        },
        "id": "9URFLQc_ewD0",
        "outputId": "b293625b-ba46-450c-b8b9-dfa91381cdf3"
      },
      "execution_count": null,
      "outputs": [
        {
          "output_type": "stream",
          "name": "stdout",
          "text": [
            "- Entrenamiento + Test:  [0.77777778 0.85185185 0.81481481 0.88888889 0.84615385 0.84615385\n",
            " 0.92307692 0.88461538 0.84615385 0.92307692]\n",
            " --> Precisión media: 0.86\n",
            " --> Desviación estándar: 0.04\n",
            "- Entrenamiento:  [0.83333333 0.83333333 0.88888889 0.66666667 0.83333333 0.72222222\n",
            " 0.76470588 0.94117647 0.88235294 0.94117647]\n",
            " --> Precisión media: 0.83\n",
            " --> Desviación estándar: 0.09\n",
            "- Test:  [0.77777778 0.77777778 0.88888889 0.55555556 0.55555556 0.77777778\n",
            " 0.77777778 0.88888889 0.875      0.75      ]\n",
            " --> Precisión media: 0.76\n",
            " --> Desviación estándar: 0.11\n"
          ]
        }
      ]
    },
    {
      "cell_type": "markdown",
      "source": [
        "# Leave One Out"
      ],
      "metadata": {
        "id": "x6f2xQIxe_0w"
      }
    },
    {
      "cell_type": "code",
      "source": [
        "cv = LeaveOneOut()\n",
        "scores = cross_val_score(logreg, x, y, scoring='accuracy', cv=cv)\n",
        "print(\"- Entrenamiento + Test: \", scores)\n",
        "print(\" --> Precisión media: %0.2f\\n --> Desviación estándar: %0.2f\" % (scores.mean(), scores.std()))\n",
        "scores = cross_val_score(logreg, X_train, y_train, cv=cv)\n",
        "print(\"- Entrenamiento: \", scores)\n",
        "print(\" --> Precisión media: %0.2f\\n --> Desviación estándar: %0.2f\" % (scores.mean(), scores.std()))\n",
        "scores = cross_val_score(logreg, X_test, y_test, cv=cv)\n",
        "print(\"- Test: \", scores)\n",
        "print(\" --> Precisión media: %0.2f\\n --> Desviación estándar: %0.2f\" % (scores.mean(), scores.std()))"
      ],
      "metadata": {
        "colab": {
          "base_uri": "https://localhost:8080/"
        },
        "id": "nd6HVB-2fFez",
        "outputId": "9cd5e2e3-2872-4573-cebf-a5ae1aa2bf8f"
      },
      "execution_count": null,
      "outputs": [
        {
          "output_type": "stream",
          "name": "stdout",
          "text": [
            "- Entrenamiento + Test:  [1. 1. 1. 1. 0. 1. 1. 0. 1. 1. 1. 1. 1. 1. 1. 1. 1. 1. 0. 1. 0. 1. 1. 1.\n",
            " 0. 1. 1. 0. 1. 0. 0. 1. 1. 1. 1. 0. 0. 1. 0. 1. 1. 1. 1. 1. 1. 1. 1. 1.\n",
            " 1. 1. 1. 1. 1. 1. 1. 1. 1. 1. 1. 1. 1. 1. 1. 1. 1. 1. 1. 1. 1. 1. 1. 1.\n",
            " 1. 1. 1. 1. 1. 1. 1. 1. 1. 1. 1. 1. 1. 1. 1. 1. 1. 1. 1. 0. 1. 1. 1. 1.\n",
            " 1. 1. 1. 1. 1. 0. 1. 1. 1. 1. 1. 1. 1. 1. 1. 1. 1. 1. 1. 1. 0. 0. 1. 1.\n",
            " 1. 1. 1. 0. 1. 1. 0. 1. 1. 1. 1. 1. 1. 1. 1. 1. 1. 1. 1. 1. 1. 1. 1. 1.\n",
            " 1. 1. 1. 1. 1. 1. 1. 1. 1. 1. 1. 1. 1. 1. 1. 1. 1. 1. 1. 1. 1. 0. 1. 1.\n",
            " 1. 1. 1. 1. 0. 0. 1. 1. 1. 1. 1. 0. 1. 1. 1. 1. 0. 1. 1. 1. 1. 1. 1. 1.\n",
            " 1. 1. 1. 1. 1. 1. 1. 1. 0. 1. 1. 1. 1. 1. 1. 1. 1. 1. 0. 1. 1. 1. 1. 1.\n",
            " 1. 1. 1. 1. 1. 1. 1. 1. 1. 1. 1. 1. 0. 1. 1. 0. 1. 1. 1. 1. 1. 1. 1. 0.\n",
            " 1. 0. 1. 0. 1. 0. 0. 1. 1. 1. 1. 0. 1. 1. 0. 1. 0. 1. 1. 1. 1. 1. 1. 1.]\n",
            " --> Precisión media: 0.87\n",
            " --> Desviación estándar: 0.33\n",
            "- Entrenamiento:  [1. 1. 1. 1. 1. 1. 1. 1. 1. 1. 1. 0. 1. 1. 0. 1. 1. 0. 1. 1. 1. 1. 1. 1.\n",
            " 1. 1. 1. 1. 1. 1. 1. 1. 1. 1. 1. 1. 1. 1. 1. 1. 1. 1. 1. 1. 1. 1. 1. 0.\n",
            " 1. 1. 1. 1. 1. 1. 1. 1. 1. 1. 1. 1. 1. 1. 1. 1. 1. 0. 1. 1. 1. 1. 1. 1.\n",
            " 1. 1. 1. 1. 1. 1. 1. 1. 1. 1. 1. 1. 1. 1. 0. 0. 1. 1. 0. 0. 0. 0. 1. 1.\n",
            " 1. 0. 1. 1. 1. 1. 1. 1. 1. 1. 1. 1. 0. 1. 0. 1. 1. 1. 1. 0. 1. 0. 1. 1.\n",
            " 1. 1. 1. 1. 1. 1. 1. 1. 1. 0. 0. 1. 1. 1. 1. 0. 1. 1. 1. 1. 1. 0. 1. 1.\n",
            " 1. 0. 1. 1. 1. 1. 1. 0. 1. 1. 1. 1. 1. 1. 1. 1. 1. 1. 1. 1. 1. 0. 1. 1.\n",
            " 1. 0. 0. 0. 1. 0. 1. 0.]\n",
            " --> Precisión media: 0.84\n",
            " --> Desviación estándar: 0.37\n",
            "- Test:  [1. 0. 1. 1. 1. 1. 1. 1. 1. 1. 1. 1. 0. 0. 1. 1. 1. 1. 1. 0. 1. 1. 0. 1.\n",
            " 1. 1. 0. 1. 1. 1. 1. 0. 0. 1. 0. 1. 1. 1. 0. 1. 1. 1. 0. 1. 1. 1. 1. 1.\n",
            " 1. 1. 1. 0. 0. 1. 0. 1. 1. 1. 0. 1. 1. 0. 1. 1. 1. 0. 1. 1. 1. 0. 1. 1.\n",
            " 1. 1. 0. 0. 1. 1. 1. 1. 1. 0. 1. 1. 1. 1. 1. 1.]\n",
            " --> Precisión media: 0.76\n",
            " --> Desviación estándar: 0.43\n"
          ]
        }
      ]
    },
    {
      "cell_type": "markdown",
      "source": [
        "He variado el número de divisiones (splits) utilizadas, pero aunque los resultados no son malos, nunca son mejores que sin la validación cruzada. Por lo tanto, trabajaré sin validación cruzada."
      ],
      "metadata": {
        "id": "Mih90QKOgQeJ"
      }
    },
    {
      "cell_type": "markdown",
      "source": [
        "# Representación gráfica\n",
        "\n",
        "La representación gráfica de las probabilidades de pertenencia a cada clase muestra que por encima de una probabilidad de 0.6, el clasificador es casi 100% fiable. Por otra parte, se puede observar que los errores se producen a menudo para probabilidades relativamente bajas, lo que demuestra que el clasificador no esta\n",
        "seguro de sus resultados en estos casos."
      ],
      "metadata": {
        "id": "JP_Yf7oTfwgY"
      }
    },
    {
      "cell_type": "code",
      "source": [
        "log_output = logreg.predict_proba(X_test)\n",
        "pred_test = logreg.predict(X_test)\n",
        "colors = ['Green' if i else 'Red' for i in pred_test == y_test]\n",
        "log_output_bis = []\n",
        "for i in range(len(log_output[:, 1])):\n",
        "    log_output_bis.append(max(log_output[i, :]))\n",
        "\n",
        "f, ax = plt.subplots(sharey=True)\n",
        "plt.setp(ax, xticks=[])\n",
        "ax.scatter(range(0, len(log_output_bis), 1), log_output_bis, s=10, label='Log Prob.', c=colors, alpha=0.5)\n",
        "ax.set_xlabel('Test Instances')\n",
        "ax.set_ylabel('Binary Ground Truth Labels /  Model Log. Prob.')\n",
        "plt.show()"
      ],
      "metadata": {
        "colab": {
          "base_uri": "https://localhost:8080/",
          "height": 269
        },
        "id": "GaghKCMKgWI1",
        "outputId": "f0bd7fd9-ddec-4425-c84d-fb30935b3089"
      },
      "execution_count": null,
      "outputs": [
        {
          "output_type": "display_data",
          "data": {
            "text/plain": [
              "<Figure size 432x288 with 1 Axes>"
            ],
            "image/png": "[encoded data removed]"
          },
          "metadata": {
            "needs_background": "light"
          }
        }
      ]
    },
    {
      "cell_type": "markdown",
      "source": [
        "Al calcular la matriz de confusión y al analyzar, vemos una cosa interesante. Podemos ver que el clasificador tiene dificultades para diferenciar a los jugadores de la clase 0 y los de la clase 8. Con un pequeño análisis del archivo csv, podemos entender rápidamente porqué. Los jugadores de estos dos grupos son relativamente similares (grupo 1: Yaya Toure, Arturo Vidal, Gabi, Marco Verratti, Luka Modric, Toni Kroos, grupo 2: Gotze, Robben, Di Maria, Ozil, De Bruyne, Fabregas), son centrocampistas técnicos, que realizan muchos pases precisos y decisivos."
      ],
      "metadata": {
        "id": "drEpT-M8kOLr"
      }
    },
    {
      "cell_type": "code",
      "source": [
        "pred = logreg.predict(x)\n",
        "cm = confusion_matrix(y, pred)\n",
        "\n",
        "print(cm)\n",
        "print('')\n",
        "print(classification_report(y, pred, target_names=['class 0', 'class 1',\n",
        "                                                   'class 2', 'class 3',\n",
        "                                                   'class 4', 'class 5',\n",
        "                                                   'class 6', 'class 7',\n",
        "                                                   'class 8']))"
      ],
      "metadata": {
        "colab": {
          "base_uri": "https://localhost:8080/"
        },
        "id": "c8UeznZ9gsVc",
        "outputId": "dde0c96d-e0fd-4ebf-9267-76767847f0a6"
      },
      "execution_count": null,
      "outputs": [
        {
          "output_type": "stream",
          "name": "stdout",
          "text": [
            "[[21  0  0  0  0  0  0  1  5]\n",
            " [ 0  4  0  0  0  0  0  0  0]\n",
            " [ 0  0 11  0  0  0  0  0  0]\n",
            " [ 1  0  0 49  0  0  0  1  0]\n",
            " [ 0  0  0  1 33  0  0  0  2]\n",
            " [ 0  0  0  0  0 34  0  0  0]\n",
            " [ 0  0  0  0  0  0 34  1  0]\n",
            " [ 0  0  0  0  1  0  2 34  0]\n",
            " [ 2  0  0  0  0  0  1  0 26]]\n",
            "\n",
            "              precision    recall  f1-score   support\n",
            "\n",
            "     class 0       0.88      0.78      0.82        27\n",
            "     class 1       1.00      1.00      1.00         4\n",
            "     class 2       1.00      1.00      1.00        11\n",
            "     class 3       0.98      0.96      0.97        51\n",
            "     class 4       0.97      0.92      0.94        36\n",
            "     class 5       1.00      1.00      1.00        34\n",
            "     class 6       0.92      0.97      0.94        35\n",
            "     class 7       0.92      0.92      0.92        37\n",
            "     class 8       0.79      0.90      0.84        29\n",
            "\n",
            "    accuracy                           0.93       264\n",
            "   macro avg       0.94      0.94      0.94       264\n",
            "weighted avg       0.93      0.93      0.93       264\n",
            "\n"
          ]
        }
      ]
    },
    {
      "cell_type": "markdown",
      "source": [
        "# ROC\n",
        "\n",
        "También he trazado las curvas ROC. Como tengo un modelo multiclase, lo he reducido a un modelo binario utilizando el método de One vs Rest. Sin embargo, he trabajado en las mismas muestras (X_train, X_test, y_train e y_test) que para el primer modelo para poder relacionar los resultados obtenidos con los de la primera parte."
      ],
      "metadata": {
        "id": "16R00ryElZib"
      }
    },
    {
      "cell_type": "code",
      "source": [
        "# Binarize the output\n",
        "y_train = label_binarize(y_train, classes=[0, 1, 2, 3, 4, 5, 6, 7, 8])\n",
        "y_test = label_binarize(y_test, classes=[0, 1, 2, 3, 4, 5, 6, 7, 8])\n",
        "\n",
        "n_classes = y_train.shape[1]\n",
        "\n",
        "# Learn to predict each class against the other\n",
        "classifier = OneVsRestClassifier(LogisticRegression(solver='liblinear')).fit(X_train, y_train)\n",
        "\n",
        "y_score = classifier.decision_function(X_test)\n",
        "\n",
        "# Compute ROC curve and ROC area for each class\n",
        "fpr = dict()\n",
        "tpr = dict()\n",
        "roc_auc = dict()\n",
        "for i in range(n_classes):\n",
        "    fpr[i], tpr[i], _ = roc_curve(y_test[:, i], y_score[:, i])\n",
        "    roc_auc[i] = auc(fpr[i], tpr[i])\n",
        "\n",
        "# Compute micro-average ROC curve and ROC area\n",
        "fpr[\"micro\"], tpr[\"micro\"], _ = roc_curve(y_test.ravel(), y_score.ravel())\n",
        "roc_auc[\"micro\"] = auc(fpr[\"micro\"], tpr[\"micro\"])\n",
        "\n",
        "# First aggregate all false positive rates\n",
        "all_fpr = np.unique(np.concatenate([fpr[i] for i in range(n_classes)]))\n",
        "\n",
        "# Then interpolate all ROC curves at this points\n",
        "mean_tpr = np.zeros_like(all_fpr)\n",
        "for i in range(n_classes):\n",
        "    mean_tpr += np.interp(all_fpr, fpr[i], tpr[i])\n",
        "\n",
        "# Finally average it and compute AUC\n",
        "mean_tpr /= n_classes\n",
        "\n",
        "fpr[\"macro\"] = all_fpr\n",
        "tpr[\"macro\"] = mean_tpr\n",
        "roc_auc[\"macro\"] = auc(fpr[\"macro\"], tpr[\"macro\"])\n",
        "\n",
        "# Plot all ROC curves\n",
        "plt.figure()\n",
        "plt.plot(\n",
        "    fpr[\"micro\"],\n",
        "    tpr[\"micro\"],\n",
        "    label=\"micro-average ROC curve (area = {0:0.2f})\".format(roc_auc[\"micro\"]),\n",
        "    color=\"deeppink\",\n",
        "    linestyle=\":\",\n",
        "    linewidth=4,\n",
        ")\n",
        "\n",
        "plt.plot(\n",
        "    fpr[\"macro\"],\n",
        "    tpr[\"macro\"],\n",
        "    label=\"macro-average ROC curve (area = {0:0.2f})\".format(roc_auc[\"macro\"]),\n",
        "    color=\"navy\",\n",
        "    linestyle=\":\",\n",
        "    linewidth=4,\n",
        ")\n",
        "\n",
        "lw = 2\n",
        "colors = cycle([\"tomato\", \"gold\", \"g\", \"magenta\", \"c\", \"slategray\", \"bisque\", \"k\"])\n",
        "for i, color in zip(range(n_classes), colors):\n",
        "    plt.plot(\n",
        "        fpr[i],\n",
        "        tpr[i],\n",
        "        color=color,\n",
        "        lw=lw,\n",
        "        label=\"ROC curve of class {0} (area = {1:0.2f})\".format(i, roc_auc[i]),\n",
        "    )\n",
        "\n",
        "plt.plot([0, 1], [0, 1], \"k--\", lw=lw)\n",
        "plt.xlim([0.0, 1.0])\n",
        "plt.ylim([0.0, 1.05])\n",
        "plt.xlabel(\"False Positive Rate\")\n",
        "plt.ylabel(\"True Positive Rate\")\n",
        "plt.title(\"Some extension of Receiver operating characteristic to multiclass\")\n",
        "plt.legend(loc=\"lower right\")\n",
        "plt.show()"
      ],
      "metadata": {
        "colab": {
          "base_uri": "https://localhost:8080/",
          "height": 295
        },
        "id": "58iRFuu8lzj0",
        "outputId": "38ce8832-5cf2-4c3d-9078-962e61478ec8"
      },
      "execution_count": null,
      "outputs": [
        {
          "output_type": "display_data",
          "data": {
            "text/plain": [
              "<Figure size 432x288 with 1 Axes>"
            ],
            "image/png": "[encoded data removed]"
          },
          "metadata": {
            "needs_background": "light"
          }
        }
      ]
    },
    {
      "cell_type": "markdown",
      "source": [
        "Vemos aquí que obtenemos muy buenos resultados con áreas cercanas a 1 a pesar del pequeño número de muestras para entrenar el modelo y para probarlo. \n",
        "\n",
        "Esta curva permite visualizar qué tasa de falsos positivos podemos aceptar guardando resultados satisfactorios y esto para cada clase. Esta elección es necesariamente subjetiva pero aquí yo diría que el 10% de falsos positivos es un buen compromiso. Tenemos todos los verdaderos positivos excepto unos pocos (10%) de las clases 4 y 7."
      ],
      "metadata": {
        "id": "RxUj_Hcx5fQZ"
      }
    },
    {
      "cell_type": "markdown",
      "source": [
        "# Importancia de la cantidad de datos para entrenar el modelo\n",
        "\n",
        "Aunque los resultados obtenidos fueron buenos, pensé que uno de los problemas que reducía su precisión era el bajo número de muestras en cada clase. De hecho, con 264 muestras para 9 clases, si tomamos el 67% para el conjunto de entrenamiento. Esto hace una media de 20 muestras para entrenar cada clase lo que ya es poco. Pero algunas clases son más extensas que otras y como la función train_test_split es perfectamente aleatoria, es posible que tome más muestras de una clase que de otra. Todo esto significa que algunas clases solo se han entrenado en unas pocas muestras, tal vez 4 o 5. \n",
        "\n",
        "Para comprobar mi intuición, creé un archivo de tres clases con mi clustering (k_means_3_clusters.csv). Por lo tanto, la cantidad de jugadores en cada clase es mucho mayor y el modelo tiene más datos para entrenar."
      ],
      "metadata": {
        "id": "-ofCXtbMDeVP"
      }
    },
    {
      "cell_type": "code",
      "source": [
        "df = pd.read_csv('k_means_3_clusters.csv', index_col='name')\n",
        "\n",
        "print(df.head())\n",
        "\n",
        "x = df.drop('cluster', axis=1)\n",
        "y = df.loc[:, 'cluster']\n",
        "\n",
        "print(y.head())\n",
        "\n",
        "X_train, X_test, y_train, y_test = train_test_split(x, y, test_size=0.33, random_state=0)\n",
        "logreg = LogisticRegression(solver='liblinear')\n",
        "logreg.fit(X_train, y_train)\n",
        "\n",
        "print(\"Precisión: %0.2f\" % logreg.score(x, y))\n",
        "print(\"- Entrenamiento: %0.2f\" % logreg.score(X_train, y_train))\n",
        "print(\"- Test: %0.2f\\n\" % logreg.score(X_test, y_test))\n",
        "\n",
        "pred = logreg.predict(x)\n",
        "cm = confusion_matrix(y, pred)\n",
        "\n",
        "print('Confusion matrix: \\n')\n",
        "print(cm)\n",
        "print('')\n",
        "print(classification_report(y, pred, target_names=['class 0', 'class 1',\n",
        "                                                   'class 2']))"
      ],
      "metadata": {
        "colab": {
          "base_uri": "https://localhost:8080/"
        },
        "id": "yrt0Qc9N5cES",
        "outputId": "974f2e19-cf1f-4961-cc01-d8f9d7220334"
      },
      "execution_count": null,
      "outputs": [
        {
          "output_type": "stream",
          "name": "stdout",
          "text": [
            "                     goals  bigChancesCreated  bigChancesMissed   assists  \\\n",
            "name                                                                        \n",
            "Yaya Touré       -0.423817          -0.052154         -0.283263  1.055707   \n",
            "Radja Nainggolan -0.105115           0.418275         -0.461116  0.206267   \n",
            "Marlos           -0.188627           0.126060         -0.722721  0.614879   \n",
            "Eduardo Salvio    0.140904           0.905385         -0.372251  0.630694   \n",
            "Jesús Corona      0.452101          -0.635115         -0.375562  0.614879   \n",
            "\n",
            "                  goalsAssistsSum  accuratePasses  inaccuratePasses  \\\n",
            "name                                                                  \n",
            "Yaya Touré               0.140034        1.265302         -0.462732   \n",
            "Radja Nainggolan         0.010754       -0.687008         -0.647279   \n",
            "Marlos                   0.124896       -0.199990         -1.347503   \n",
            "Eduardo Salvio           0.377014       -1.056680         -0.132762   \n",
            "Jesús Corona             0.601838       -0.770503         -0.100147   \n",
            "\n",
            "                  totalPasses  accuratePassesPercentage  \\\n",
            "name                                                      \n",
            "Yaya Touré           1.185215                  1.244553   \n",
            "Radja Nainggolan    -0.743962                 -0.203942   \n",
            "Marlos              -0.346133                  0.911391   \n",
            "Eduardo Salvio      -1.047835                 -1.550373   \n",
            "Jesús Corona        -0.764426                 -0.560043   \n",
            "\n",
            "                  accurateOwnHalfPasses  ...  totalAttemptAssist  \\\n",
            "name                                     ...                       \n",
            "Yaya Touré                     0.589774  ...           -0.249493   \n",
            "Radja Nainggolan              -0.764807  ...            0.673049   \n",
            "Marlos                        -0.621559  ...            0.937136   \n",
            "Eduardo Salvio                -1.121291  ...            0.363887   \n",
            "Jesús Corona                  -0.840052  ...            0.515612   \n",
            "\n",
            "                  totalContest  totalCross  duelLost  aerialLost  \\\n",
            "name                                                               \n",
            "Yaya Touré            0.845842   -0.849703 -0.025055    0.050718   \n",
            "Radja Nainggolan     -0.184185    0.135976 -0.226347   -0.676536   \n",
            "Marlos                1.183146   -0.009315  1.040567   -1.026199   \n",
            "Eduardo Salvio        1.953165   -0.167063  2.200143    0.619781   \n",
            "Jesús Corona          2.480562    1.640560  2.580858    0.030087   \n",
            "\n",
            "                  totalLongBalls  yellowRedCards  totalOwnHalfPasses  \\\n",
            "name                                                                   \n",
            "Yaya Touré              0.233455       -0.283147            0.502775   \n",
            "Radja Nainggolan       -0.305338       -0.283147           -0.747453   \n",
            "Marlos                 -0.702866       -0.283147           -0.620797   \n",
            "Eduardo Salvio         -1.268609       -0.283147           -1.096978   \n",
            "Jesús Corona           -0.868864       -0.283147           -0.804233   \n",
            "\n",
            "                  totalOppositionHalfPasses  cluster  \n",
            "name                                                  \n",
            "Yaya Touré                         1.141602        0  \n",
            "Radja Nainggolan                  -0.321755        0  \n",
            "Marlos                             0.132495        0  \n",
            "Eduardo Salvio                    -0.470681        0  \n",
            "Jesús Corona                      -0.017864        0  \n",
            "\n",
            "[5 rows x 53 columns]\n",
            "name\n",
            "Yaya Touré          0\n",
            "Radja Nainggolan    0\n",
            "Marlos              0\n",
            "Eduardo Salvio      0\n",
            "Jesús Corona        0\n",
            "Name: cluster, dtype: int64\n",
            "Precisión: 0.98\n",
            "- Entrenamiento: 0.99\n",
            "- Test: 0.95\n",
            "\n",
            "Confusion matrix: \n",
            "\n",
            "[[ 75   1   1]\n",
            " [  2 149   0]\n",
            " [  1   0  35]]\n",
            "\n",
            "              precision    recall  f1-score   support\n",
            "\n",
            "     class 0       0.96      0.97      0.97        77\n",
            "     class 1       0.99      0.99      0.99       151\n",
            "     class 2       0.97      0.97      0.97        36\n",
            "\n",
            "    accuracy                           0.98       264\n",
            "   macro avg       0.98      0.98      0.98       264\n",
            "weighted avg       0.98      0.98      0.98       264\n",
            "\n"
          ]
        }
      ]
    },
    {
      "cell_type": "code",
      "source": [
        "# Binarize the output\n",
        "y_train = label_binarize(y_train, classes=[0, 1, 2])\n",
        "y_test = label_binarize(y_test, classes=[0, 1, 2])\n",
        "\n",
        "n_classes = y_train.shape[1]\n",
        "\n",
        "# Learn to predict each class against the other\n",
        "classifier = OneVsRestClassifier(LogisticRegression(solver='liblinear')).fit(X_train, y_train)\n",
        "\n",
        "y_score = classifier.decision_function(X_test)\n",
        "\n",
        "# Compute ROC curve and ROC area for each class\n",
        "fpr = dict()\n",
        "tpr = dict()\n",
        "roc_auc = dict()\n",
        "for i in range(n_classes):\n",
        "    fpr[i], tpr[i], _ = roc_curve(y_test[:, i], y_score[:, i])\n",
        "    roc_auc[i] = auc(fpr[i], tpr[i])\n",
        "\n",
        "# Compute micro-average ROC curve and ROC area\n",
        "fpr[\"micro\"], tpr[\"micro\"], _ = roc_curve(y_test.ravel(), y_score.ravel())\n",
        "roc_auc[\"micro\"] = auc(fpr[\"micro\"], tpr[\"micro\"])\n",
        "\n",
        "# First aggregate all false positive rates\n",
        "all_fpr = np.unique(np.concatenate([fpr[i] for i in range(n_classes)]))\n",
        "\n",
        "# Then interpolate all ROC curves at this points\n",
        "mean_tpr = np.zeros_like(all_fpr)\n",
        "for i in range(n_classes):\n",
        "    mean_tpr += np.interp(all_fpr, fpr[i], tpr[i])\n",
        "\n",
        "# Finally average it and compute AUC\n",
        "mean_tpr /= n_classes\n",
        "\n",
        "fpr[\"macro\"] = all_fpr\n",
        "tpr[\"macro\"] = mean_tpr\n",
        "roc_auc[\"macro\"] = auc(fpr[\"macro\"], tpr[\"macro\"])\n",
        "\n",
        "# Plot all ROC curves\n",
        "plt.figure()\n",
        "plt.plot(\n",
        "    fpr[\"micro\"],\n",
        "    tpr[\"micro\"],\n",
        "    label=\"micro-average ROC curve (area = {0:0.2f})\".format(roc_auc[\"micro\"]),\n",
        "    color=\"deeppink\",\n",
        "    linestyle=\":\",\n",
        "    linewidth=4,\n",
        ")\n",
        "\n",
        "plt.plot(\n",
        "    fpr[\"macro\"],\n",
        "    tpr[\"macro\"],\n",
        "    label=\"macro-average ROC curve (area = {0:0.2f})\".format(roc_auc[\"macro\"]),\n",
        "    color=\"navy\",\n",
        "    linestyle=\":\",\n",
        "    linewidth=4,\n",
        ")\n",
        "\n",
        "lw = 2\n",
        "colors = cycle([\"tomato\", \"gold\", \"g\", \"magenta\", \"c\", \"slategray\", \"bisque\", \"k\"])\n",
        "for i, color in zip(range(n_classes), colors):\n",
        "    plt.plot(\n",
        "        fpr[i],\n",
        "        tpr[i],\n",
        "        color=color,\n",
        "        lw=lw,\n",
        "        label=\"ROC curve of class {0} (area = {1:0.2f})\".format(i, roc_auc[i]),\n",
        "    )\n",
        "\n",
        "plt.plot([0, 1], [0, 1], \"k--\", lw=lw)\n",
        "plt.xlim([0.0, 1.0])\n",
        "plt.ylim([0.0, 1.05])\n",
        "plt.xlabel(\"False Positive Rate\")\n",
        "plt.ylabel(\"True Positive Rate\")\n",
        "plt.title(\"Some extension of Receiver operating characteristic to multiclass\")\n",
        "plt.legend(loc=\"lower right\")\n",
        "plt.show()"
      ],
      "metadata": {
        "colab": {
          "base_uri": "https://localhost:8080/",
          "height": 295
        },
        "id": "E-Uv37PtjrCh",
        "outputId": "a55a5685-6712-43a6-9e52-3b48f38bd49c"
      },
      "execution_count": 16,
      "outputs": [
        {
          "output_type": "display_data",
          "data": {
            "text/plain": [
              "<Figure size 432x288 with 1 Axes>"
            ],
            "image/png": "[encoded data removed]"
          },
          "metadata": {
            "needs_background": "light"
          }
        }
      ]
    },
    {
      "cell_type": "markdown",
      "source": [
        "Los resultados confirman mi intuición y son excelentes, con una precisión del 95% en el grupo de prueba."
      ],
      "metadata": {
        "id": "8KVevu5LL5qp"
      }
    },
    {
      "cell_type": "markdown",
      "source": [
        "# Conclusión\n",
        "\n",
        "Es posible la clasificación de jugadores de fútbol mediante un método de aprendizaje supervisado como la regresión logística. Sin embargo, para obtener resultados satisfactorios, es importante entrenar el modelo con un número suficiente de muestras."
      ],
      "metadata": {
        "id": "D2PV9k7GMRqO"
      }
    }
  ]
}